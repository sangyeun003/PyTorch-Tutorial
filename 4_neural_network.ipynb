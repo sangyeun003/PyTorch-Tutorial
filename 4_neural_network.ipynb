{
 "cells": [
  {
   "cell_type": "markdown",
   "metadata": {},
   "source": [
    "# **신경망 모델 구성하기**"
   ]
  },
  {
   "cell_type": "markdown",
   "metadata": {},
   "source": [
    "## **Import**"
   ]
  },
  {
   "cell_type": "code",
   "execution_count": 1,
   "metadata": {},
   "outputs": [],
   "source": [
    "import os\n",
    "import torch\n",
    "from torch import nn\n",
    "from torch.utils.data import DataLoader\n",
    "from torchvision import datasets, transforms"
   ]
  },
  {
   "cell_type": "markdown",
   "metadata": {},
   "source": [
    "## **학습을 위한 Device 얻기**"
   ]
  },
  {
   "cell_type": "markdown",
   "metadata": {},
   "source": [
    "- 가능한 경우, GPU나 MPS 같은 하드웨어 가속기에서 모델을 학습하는 것이 좋음\n",
    "- `torch.cuda` 또는 `torch.backends.mps`가 사용 가능하면 사용\n",
    "    - 사용 불가하면 CPU 사용"
   ]
  },
  {
   "cell_type": "code",
   "execution_count": 2,
   "metadata": {},
   "outputs": [
    {
     "name": "stdout",
     "output_type": "stream",
     "text": [
      "Using cuda device\n"
     ]
    }
   ],
   "source": [
    "device = (\"cuda\" if torch.cuda.is_available() else \"mps\" if torch.backends.mps.is_available() else \"cpu\")\n",
    "\n",
    "print(f\"Using {device} device\")"
   ]
  },
  {
   "cell_type": "markdown",
   "metadata": {},
   "source": [
    "## **Class 정의하기**"
   ]
  },
  {
   "cell_type": "markdown",
   "metadata": {},
   "source": [
    "- 신경망 모델을 `nn.Module`을 상속 받아, `nn.Module`의 하위 클래스(subclass)로 정의\n",
    "- `__init__`에서 신경망 계층 초기화\n",
    "- `nn.Module`을 상속 받는 모든 클래스는 `forward` 메소드에 입력 데이터에 대한 연산을 구현!"
   ]
  },
  {
   "cell_type": "code",
   "execution_count": 3,
   "metadata": {},
   "outputs": [],
   "source": [
    "class NeuralNetwork(nn.Module):\n",
    "\tdef __init__(self):\n",
    "\t\t# 부모 클래스의 초기화 메소드 호출. 부모 클래스의 초기화 메소드를 명시적으로 호출하지 않으면 부모 클래스의 초기화 과정 수행 x\n",
    "\t\tsuper().__init__()\n",
    "\t\tself.flatten = nn.Flatten()\n",
    "\t\tself.linear_relu_stack = nn.Sequential(\n",
    "\t\t\tnn.Linear(28*28, 512),\n",
    "\t\t\tnn.ReLU(),\n",
    "\t\t\tnn.Linear(512, 512),\n",
    "\t\t\tnn.ReLU(),\n",
    "\t\t\tnn.Linear(512, 10)\n",
    "\t\t)\n",
    "\t\n",
    "\tdef forward(self, x):\n",
    "\t\tx = self.flatten(x)\n",
    "\t\tlogits = self.linear_relu_stack(x)\n",
    "\n",
    "\t\treturn logits"
   ]
  },
  {
   "cell_type": "code",
   "execution_count": 4,
   "metadata": {},
   "outputs": [
    {
     "name": "stdout",
     "output_type": "stream",
     "text": [
      "NeuralNetwork(\n",
      "  (flatten): Flatten(start_dim=1, end_dim=-1)\n",
      "  (linear_relu_stack): Sequential(\n",
      "    (0): Linear(in_features=784, out_features=512, bias=True)\n",
      "    (1): ReLU()\n",
      "    (2): Linear(in_features=512, out_features=512, bias=True)\n",
      "    (3): ReLU()\n",
      "    (4): Linear(in_features=512, out_features=10, bias=True)\n",
      "  )\n",
      ")\n"
     ]
    }
   ],
   "source": [
    "model = NeuralNetwork().to(device)\t# NeuralNetwork의 인스턴스를 생성 후, device로 이동\n",
    "\n",
    "print(model)\t# model 구조 출력"
   ]
  },
  {
   "cell_type": "markdown",
   "metadata": {},
   "source": [
    "- 모델에 입력 데이터 전달\n",
    "- 모델에 입력 데이터 전달하면, 백그라운드 연산과 함께 `forward` 함수 실행\n",
    "    - `forward` 함수 직접 호출하면 안됨!\n",
    "- 모델에 입력 전달하면 2차원 tensor 반환됨\n",
    "    - dim=0에는 각 클래스에 대한 raw(원시) 예측값(10개) 들어있음\n",
    "    - dim=1에는 각 출력의 개별 값 들어있음\n",
    "- dim=0의 원시 예측값에 softmax 함수(출력층의 활성화 함수)를 적용하여 확률 얻음"
   ]
  },
  {
   "cell_type": "code",
   "execution_count": 14,
   "metadata": {},
   "outputs": [
    {
     "name": "stdout",
     "output_type": "stream",
     "text": [
      "logits: tensor([[ 0.1469,  0.0500,  0.0635,  0.0863, -0.0030,  0.1396, -0.0011,  0.1272,\n",
      "         -0.0198, -0.0140]], device='cuda:0', grad_fn=<AddmmBackward0>)\n",
      "pred_probab: tensor([[0.1091, 0.0991, 0.1004, 0.1027, 0.0939, 0.1083, 0.0941, 0.1070, 0.0924,\n",
      "         0.0929]], device='cuda:0', grad_fn=<SoftmaxBackward0>)\n",
      "Predicted class: tensor([0], device='cuda:0')\n"
     ]
    }
   ],
   "source": [
    "X = torch.rand(1, 28, 28, device=device)\t# device에 0~1 범위에서 1*28*28 크기 텐서 생성\n",
    "# print(f\"X: {X}\")\n",
    "\n",
    "logits = model(X)\n",
    "print(f\"logits: {logits}\")\n",
    "\n",
    "pred_probab = nn.Softmax(dim=1)(logits)\t\t# 출력층의 활성화 함수 적용\n",
    "print(f\"pred_probab: {pred_probab}\")\n",
    "\n",
    "y_pred = pred_probab.argmax(1)\t\t# 인자로 1을 주면, 각 행에서 최대값 index를 찾음\n",
    "print(f\"Predicted class: {y_pred}\")"
   ]
  },
  {
   "cell_type": "markdown",
   "metadata": {},
   "source": [
    "## **모델 계층(Layer)**"
   ]
  },
  {
   "cell_type": "code",
   "execution_count": 15,
   "metadata": {},
   "outputs": [
    {
     "name": "stdout",
     "output_type": "stream",
     "text": [
      "torch.Size([3, 28, 28])\n"
     ]
    }
   ],
   "source": [
    "input_image = torch.rand(3, 28, 28)\n",
    "print(input_image.size())"
   ]
  },
  {
   "cell_type": "markdown",
   "metadata": {},
   "source": [
    "### **`nn.Flatten()`**"
   ]
  },
  {
   "cell_type": "code",
   "execution_count": 16,
   "metadata": {},
   "outputs": [
    {
     "name": "stdout",
     "output_type": "stream",
     "text": [
      "torch.Size([3, 784])\n"
     ]
    }
   ],
   "source": [
    "flatten = nn.Flatten()\n",
    "\n",
    "flatten_image = flatten(input_image)\n",
    "print(flatten_image.size())"
   ]
  },
  {
   "cell_type": "markdown",
   "metadata": {},
   "source": [
    "### **`nn.Linear()`**"
   ]
  },
  {
   "cell_type": "code",
   "execution_count": 17,
   "metadata": {},
   "outputs": [
    {
     "name": "stdout",
     "output_type": "stream",
     "text": [
      "torch.Size([3, 20])\n"
     ]
    }
   ],
   "source": [
    "layer1 = nn.Linear(in_features=28*28, out_features=20)\t# 784 * 20 행렬\n",
    "hidden1 = layer1(flatten_image)\n",
    "print(hidden1.size())"
   ]
  },
  {
   "cell_type": "markdown",
   "metadata": {},
   "source": [
    "### **`nn.ReLU()`**"
   ]
  },
  {
   "cell_type": "code",
   "execution_count": 18,
   "metadata": {},
   "outputs": [
    {
     "name": "stdout",
     "output_type": "stream",
     "text": [
      "Before ReLU: tensor([[ 0.3836, -0.4894, -0.5426, -0.4817, -0.3242, -0.0568, -0.1116,  0.0920,\n",
      "         -0.0570, -0.5057, -0.1809,  0.5377,  0.0836, -0.0028, -0.2601,  0.1802,\n",
      "         -0.1930, -0.1139,  0.1736, -0.3348],\n",
      "        [ 0.6057, -0.4301, -0.7111, -0.4037, -0.1669,  0.0030, -0.0659, -0.0966,\n",
      "          0.4451, -0.5701,  0.0022,  0.3232,  0.0049,  0.2577, -0.3044,  0.2893,\n",
      "         -0.3611,  0.1616,  0.3359, -0.5548],\n",
      "        [ 0.2694, -0.5665, -0.2893, -0.0371,  0.1722,  0.0800, -0.4573, -0.2302,\n",
      "          0.2277, -0.0686, -0.2334,  0.3932,  0.5061, -0.2767, -0.0165,  0.3034,\n",
      "         -0.3946, -0.0337,  0.2778, -0.4817]], grad_fn=<AddmmBackward0>)\n",
      "\n",
      "\n",
      "After ReLU: tensor([[0.3836, 0.0000, 0.0000, 0.0000, 0.0000, 0.0000, 0.0000, 0.0920, 0.0000,\n",
      "         0.0000, 0.0000, 0.5377, 0.0836, 0.0000, 0.0000, 0.1802, 0.0000, 0.0000,\n",
      "         0.1736, 0.0000],\n",
      "        [0.6057, 0.0000, 0.0000, 0.0000, 0.0000, 0.0030, 0.0000, 0.0000, 0.4451,\n",
      "         0.0000, 0.0022, 0.3232, 0.0049, 0.2577, 0.0000, 0.2893, 0.0000, 0.1616,\n",
      "         0.3359, 0.0000],\n",
      "        [0.2694, 0.0000, 0.0000, 0.0000, 0.1722, 0.0800, 0.0000, 0.0000, 0.2277,\n",
      "         0.0000, 0.0000, 0.3932, 0.5061, 0.0000, 0.0000, 0.3034, 0.0000, 0.0000,\n",
      "         0.2778, 0.0000]], grad_fn=<ReluBackward0>)\n"
     ]
    }
   ],
   "source": [
    "print(f\"Before ReLU: {hidden1}\\n\\n\")\n",
    "hidden1 = nn.ReLU()(hidden1)\n",
    "print(f\"After ReLU: {hidden1}\")"
   ]
  },
  {
   "cell_type": "markdown",
   "metadata": {},
   "source": [
    "### **`nn.Sequential()`**"
   ]
  },
  {
   "cell_type": "code",
   "execution_count": 20,
   "metadata": {},
   "outputs": [
    {
     "name": "stdout",
     "output_type": "stream",
     "text": [
      "tensor([[-1.7599e-01, -1.8340e-01,  9.8428e-02, -1.6876e-01,  4.7279e-02,\n",
      "         -7.7991e-02,  1.0766e-01,  2.2044e-01,  9.1638e-02,  4.3357e-02],\n",
      "        [-2.2838e-01, -2.2089e-01,  1.0409e-01, -1.7542e-01, -3.1734e-04,\n",
      "          1.0944e-02,  1.3846e-01,  2.1363e-01,  2.3289e-01,  1.2982e-01],\n",
      "        [-2.0577e-01, -2.1086e-01,  1.4728e-01, -4.7553e-02, -2.0681e-02,\n",
      "         -8.1054e-03,  1.5848e-01,  3.3684e-01,  1.3867e-01,  6.7316e-02]],\n",
      "       grad_fn=<AddmmBackward0>)\n"
     ]
    }
   ],
   "source": [
    "seq_modules = nn.Sequential(\n",
    "\tflatten,\t# 3*784\n",
    "\tlayer1,\t\t# 784*20\n",
    "\tnn.ReLU(),\n",
    "\tnn.Linear(20, 10)\t# 20*10\n",
    ")\t# 3*10\n",
    "\n",
    "input_image = torch.rand(3, 28, 28)\n",
    "logits = seq_modules(input_image)\n",
    "print(logits)"
   ]
  },
  {
   "cell_type": "markdown",
   "metadata": {},
   "source": [
    "### **`nn.Softmax()`**"
   ]
  },
  {
   "cell_type": "code",
   "execution_count": 21,
   "metadata": {},
   "outputs": [
    {
     "name": "stdout",
     "output_type": "stream",
     "text": [
      "Softmax(dim=1)\n",
      "tensor([[0.0831, 0.0825, 0.1093, 0.0837, 0.1039, 0.0916, 0.1103, 0.1235, 0.1086,\n",
      "         0.1035],\n",
      "        [0.0769, 0.0775, 0.1073, 0.0811, 0.0966, 0.0977, 0.1110, 0.1197, 0.1220,\n",
      "         0.1101],\n",
      "        [0.0775, 0.0771, 0.1104, 0.0908, 0.0933, 0.0945, 0.1116, 0.1334, 0.1094,\n",
      "         0.1019]], grad_fn=<SoftmaxBackward0>)\n"
     ]
    }
   ],
   "source": [
    "softmax = nn.Softmax(dim=1)\n",
    "print(softmax)\n",
    "\n",
    "pred_probab = softmax(logits)\n",
    "print(pred_probab)"
   ]
  },
  {
   "cell_type": "markdown",
   "metadata": {},
   "source": [
    "## **모델 매개변수**"
   ]
  },
  {
   "cell_type": "code",
   "execution_count": 23,
   "metadata": {},
   "outputs": [
    {
     "name": "stdout",
     "output_type": "stream",
     "text": [
      "Model structure: NeuralNetwork(\n",
      "  (flatten): Flatten(start_dim=1, end_dim=-1)\n",
      "  (linear_relu_stack): Sequential(\n",
      "    (0): Linear(in_features=784, out_features=512, bias=True)\n",
      "    (1): ReLU()\n",
      "    (2): Linear(in_features=512, out_features=512, bias=True)\n",
      "    (3): ReLU()\n",
      "    (4): Linear(in_features=512, out_features=10, bias=True)\n",
      "  )\n",
      ")\n",
      "\n",
      "\n",
      "Layer: linear_relu_stack.0.weight | Size: torch.Size([512, 784]) | Values: tensor([[ 0.0101, -0.0015, -0.0089,  ..., -0.0165, -0.0307, -0.0137],\n",
      "        [ 0.0263,  0.0132,  0.0239,  ...,  0.0273,  0.0277, -0.0131]],\n",
      "       device='cuda:0', grad_fn=<SliceBackward0>)\n",
      "\n",
      "Layer: linear_relu_stack.0.bias | Size: torch.Size([512]) | Values: tensor([ 0.0103, -0.0188], device='cuda:0', grad_fn=<SliceBackward0>)\n",
      "\n",
      "Layer: linear_relu_stack.2.weight | Size: torch.Size([512, 512]) | Values: tensor([[-0.0422, -0.0102, -0.0005,  ..., -0.0416,  0.0033, -0.0229],\n",
      "        [ 0.0071,  0.0206, -0.0111,  ..., -0.0316, -0.0109, -0.0365]],\n",
      "       device='cuda:0', grad_fn=<SliceBackward0>)\n",
      "\n",
      "Layer: linear_relu_stack.2.bias | Size: torch.Size([512]) | Values: tensor([-0.0030,  0.0147], device='cuda:0', grad_fn=<SliceBackward0>)\n",
      "\n",
      "Layer: linear_relu_stack.4.weight | Size: torch.Size([10, 512]) | Values: tensor([[ 0.0307, -0.0262,  0.0006,  ..., -0.0350,  0.0077,  0.0423],\n",
      "        [ 0.0084,  0.0100, -0.0079,  ..., -0.0335,  0.0025, -0.0379]],\n",
      "       device='cuda:0', grad_fn=<SliceBackward0>)\n",
      "\n",
      "Layer: linear_relu_stack.4.bias | Size: torch.Size([10]) | Values: tensor([0.0149, 0.0378], device='cuda:0', grad_fn=<SliceBackward0>)\n",
      "\n"
     ]
    }
   ],
   "source": [
    "print(f\"Model structure: {model}\\n\\n\")\n",
    "\n",
    "for name, param in model.named_parameters():\n",
    "\tprint(f\"Layer: {name} | Size: {param.size()} | Values: {param[:2]}\\n\")"
   ]
  }
 ],
 "metadata": {
  "kernelspec": {
   "display_name": "torch",
   "language": "python",
   "name": "python3"
  },
  "language_info": {
   "codemirror_mode": {
    "name": "ipython",
    "version": 3
   },
   "file_extension": ".py",
   "mimetype": "text/x-python",
   "name": "python",
   "nbconvert_exporter": "python",
   "pygments_lexer": "ipython3",
   "version": "3.9.19"
  }
 },
 "nbformat": 4,
 "nbformat_minor": 2
}
