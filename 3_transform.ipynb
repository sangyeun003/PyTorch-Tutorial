{
 "cells": [
  {
   "cell_type": "markdown",
   "metadata": {},
   "source": [
    "# **변형(Transform)**\n",
    "- 데이터가 항상 학습에 필요한 최종 처리가 된 형태로 제공되는 것은 아님\n",
    "- **변형(transform)**을 해서 **데이터를 조작**하고 **학습에 적합하게** 만들어야 함\n",
    "- 모든 TorchVision 데이터셋은 `transform`과 `target_transform` 매개변수를 가짐\n",
    "    - 2개 모두 호출 가능한 객체(callable)를 받음\n",
    "    - `transfrom`: 특징(feature)을 변경함\n",
    "    - `target_transform`: 정답(label)을 변경함\n",
    "\n",
    "- FashionMNIST 데이터셋의 **특징(feature)은 PIL Image 형식** & **정답(label)은 정수**\n",
    "- 학습에 필요한 것\n",
    "    - **정규화된 tensor 형태의 특징(feature)** → `ToTensor()` 사용\n",
    "    - **one-hot-encoding된 tensor 형태의 정답(label)** → `Lambda` 사용\n",
    "\n",
    "### **ToTensor()**\n",
    "\n",
    "- PIL Image나 Numpy ndarray를 FloatTensor로 변환하고, 이미지 픽셀의 크기를 0~1 범위로 조정\n",
    "\n",
    "### **Lambda transform**\n",
    "\n",
    "- 사용자 정의 Lambda 함수 적용\n",
    "- 정수를 one-hot-encoding된 Tensor로 바꾸는 함수 정의해야 함\n",
    "- class 개수와 같은 크기의 0 tensor를 만들고, scatter_를 호출해서 주어진 정답 Y에 해당하는 index에 value=1을 할당\n",
    "\n",
    "\n",
    "\t```python\n",
    "\ttarget_transform = Lambda(lambda y: torch.zeros(10, dtype=torch.float).scatter_(dim=0, index=torch.tensor(y), value=1))\t \n",
    "    ```"
   ]
  },
  {
   "cell_type": "code",
   "execution_count": 1,
   "metadata": {},
   "outputs": [],
   "source": [
    "import torch\n",
    "from torchvision import datasets\n",
    "from torchvision.transforms import ToTensor, Lambda\n",
    "\n",
    "ds = datasets.FashionMNIST(\n",
    "\troot = \"data\",\n",
    "\ttrain = True,\n",
    "\tdownload = True,\n",
    "\ttransform = ToTensor(),\n",
    "\ttarget_transform = Lambda(lambda y: torch.zeros(10, dtype=torch.float).scatter_(0, torch.tensor(y), value=1))\n",
    ")"
   ]
  }
 ],
 "metadata": {
  "kernelspec": {
   "display_name": "torch",
   "language": "python",
   "name": "python3"
  },
  "language_info": {
   "codemirror_mode": {
    "name": "ipython",
    "version": 3
   },
   "file_extension": ".py",
   "mimetype": "text/x-python",
   "name": "python",
   "nbconvert_exporter": "python",
   "pygments_lexer": "ipython3",
   "version": "3.8.19"
  }
 },
 "nbformat": 4,
 "nbformat_minor": 2
}
